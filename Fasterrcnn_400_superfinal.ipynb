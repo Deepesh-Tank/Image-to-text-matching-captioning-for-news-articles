{
  "nbformat": 4,
  "nbformat_minor": 0,
  "metadata": {
    "colab": {
      "name": "Fasterrcnn_400_superfinal.ipynb",
      "provenance": [],
      "collapsed_sections": []
    },
    "kernelspec": {
      "name": "python3",
      "display_name": "Python 3"
    },
    "language_info": {
      "name": "python"
    },
    "accelerator": "GPU"
  },
  "cells": [
    {
      "cell_type": "code",
      "metadata": {
        "colab": {
          "base_uri": "https://localhost:8080/"
        },
        "id": "_d2834zZ-lxt",
        "outputId": "ffef1924-0188-4afd-c87e-6a7121f2882e"
      },
      "source": [
        "%tensorflow_version 1.x\n"
      ],
      "execution_count": null,
      "outputs": [
        {
          "output_type": "stream",
          "text": [
            "TensorFlow 1.x selected.\n"
          ],
          "name": "stdout"
        }
      ]
    },
    {
      "cell_type": "code",
      "metadata": {
        "colab": {
          "base_uri": "https://localhost:8080/"
        },
        "id": "959ySsHo_JLs",
        "outputId": "5603475c-a189-4a9f-e12c-001e2f23f272"
      },
      "source": [
        "!pip install gluoncv"
      ],
      "execution_count": null,
      "outputs": [
        {
          "output_type": "stream",
          "text": [
            "Collecting gluoncv\n",
            "\u001b[?25l  Downloading https://files.pythonhosted.org/packages/dd/2b/f1cc4e7a0a654c00dae9d870d0d1f653e5760ad85297306b63e6be527dcf/gluoncv-0.10.1.post0-py3-none-any.whl (1.1MB)\n",
            "\u001b[K     |████████████████████████████████| 1.1MB 8.3MB/s \n",
            "\u001b[?25hRequirement already satisfied: Pillow in /usr/local/lib/python3.7/dist-packages (from gluoncv) (7.1.2)\n",
            "Collecting autogluon.core\n",
            "\u001b[?25l  Downloading https://files.pythonhosted.org/packages/be/4d/6e8e1eb195aa09c4f62dab87a4ff1d7cb5964369606e4fe91af0bf9c5ffa/autogluon.core-0.2.0-py3-none-any.whl (334kB)\n",
            "\u001b[K     |████████████████████████████████| 337kB 22.9MB/s \n",
            "\u001b[?25hRequirement already satisfied: scipy in /usr/local/lib/python3.7/dist-packages (from gluoncv) (1.4.1)\n",
            "Collecting decord\n",
            "\u001b[?25l  Downloading https://files.pythonhosted.org/packages/64/5e/e2be6a3a3a46275059574d9c6a1d422aa6c7c3cbf6614939b8a3c3f8f2d5/decord-0.5.2-py3-none-manylinux2010_x86_64.whl (14.1MB)\n",
            "\u001b[K     |████████████████████████████████| 14.1MB 323kB/s \n",
            "\u001b[?25hCollecting yacs\n",
            "  Downloading https://files.pythonhosted.org/packages/38/4f/fe9a4d472aa867878ce3bb7efb16654c5d63672b86dc0e6e953a67018433/yacs-0.1.8-py3-none-any.whl\n",
            "Requirement already satisfied: pyyaml in /usr/local/lib/python3.7/dist-packages (from gluoncv) (3.13)\n",
            "Requirement already satisfied: requests in /usr/local/lib/python3.7/dist-packages (from gluoncv) (2.23.0)\n",
            "Collecting portalocker\n",
            "  Downloading https://files.pythonhosted.org/packages/68/33/cb524f4de298509927b90aa5ee34767b9a2b93e663cf354b2a3efa2b4acd/portalocker-2.3.0-py2.py3-none-any.whl\n",
            "Requirement already satisfied: matplotlib in /usr/local/lib/python3.7/dist-packages (from gluoncv) (3.2.2)\n",
            "Collecting tensorboardx\n",
            "\u001b[?25l  Downloading https://files.pythonhosted.org/packages/07/84/46421bd3e0e89a92682b1a38b40efc22dafb6d8e3d947e4ceefd4a5fabc7/tensorboardX-2.2-py2.py3-none-any.whl (120kB)\n",
            "\u001b[K     |████████████████████████████████| 122kB 38.4MB/s \n",
            "\u001b[?25hRequirement already satisfied: numpy in /usr/local/lib/python3.7/dist-packages (from gluoncv) (1.19.5)\n",
            "Requirement already satisfied: tqdm in /usr/local/lib/python3.7/dist-packages (from gluoncv) (4.41.1)\n",
            "Requirement already satisfied: opencv-python in /usr/local/lib/python3.7/dist-packages (from gluoncv) (4.1.2.30)\n",
            "Collecting autocfg\n",
            "  Downloading https://files.pythonhosted.org/packages/95/f9/74e0a42cbc6d871c92288806e7812c7d2628c2a06557930dbab0a17438d2/autocfg-0.0.8-py3-none-any.whl\n",
            "Requirement already satisfied: pandas in /usr/local/lib/python3.7/dist-packages (from gluoncv) (1.1.5)\n",
            "Requirement already satisfied: cython in /usr/local/lib/python3.7/dist-packages (from autogluon.core->gluoncv) (0.29.22)\n",
            "Requirement already satisfied: dill==0.3.3 in /usr/local/lib/python3.7/dist-packages (from autogluon.core->gluoncv) (0.3.3)\n",
            "Requirement already satisfied: autograd>=1.3 in /usr/local/lib/python3.7/dist-packages (from autogluon.core->gluoncv) (1.3)\n",
            "Collecting ConfigSpace==0.4.18\n",
            "\u001b[?25l  Downloading https://files.pythonhosted.org/packages/a5/c3/3c21e8d82a639fd821f538e6d7f830b654a6ce1fe52644be1a67f323f707/ConfigSpace-0.4.18.tar.gz (950kB)\n",
            "\u001b[K     |████████████████████████████████| 952kB 36.5MB/s \n",
            "\u001b[?25h  Installing build dependencies ... \u001b[?25l\u001b[?25hcanceled\n",
            "\u001b[31mERROR: Operation cancelled by user\u001b[0m\n"
          ],
          "name": "stdout"
        }
      ]
    },
    {
      "cell_type": "code",
      "metadata": {
        "colab": {
          "base_uri": "https://localhost:8080/"
        },
        "id": "5M1iPiGIIr-o",
        "outputId": "2fb2d417-7f07-47ca-c69c-564813c38140"
      },
      "source": [
        "!pip install mxnet"
      ],
      "execution_count": null,
      "outputs": [
        {
          "output_type": "stream",
          "text": [
            "Collecting mxnet\n",
            "\u001b[?25l  Downloading https://files.pythonhosted.org/packages/30/07/66174e78c12a3048db9039aaa09553e35035ef3a008ba3e0ed8d2aa3c47b/mxnet-1.8.0.post0-py2.py3-none-manylinux2014_x86_64.whl (46.9MB)\n",
            "\u001b[K     |████████████████████████████████| 46.9MB 96kB/s \n",
            "\u001b[?25hCollecting graphviz<0.9.0,>=0.8.1\n",
            "  Downloading https://files.pythonhosted.org/packages/53/39/4ab213673844e0c004bed8a0781a0721a3f6bb23eb8854ee75c236428892/graphviz-0.8.4-py2.py3-none-any.whl\n",
            "Requirement already satisfied: requests<3,>=2.20.0 in /usr/local/lib/python3.7/dist-packages (from mxnet) (2.23.0)\n",
            "Requirement already satisfied: numpy<2.0.0,>1.16.0 in /usr/local/lib/python3.7/dist-packages (from mxnet) (1.19.5)\n",
            "Requirement already satisfied: chardet<4,>=3.0.2 in /usr/local/lib/python3.7/dist-packages (from requests<3,>=2.20.0->mxnet) (3.0.4)\n",
            "Requirement already satisfied: certifi>=2017.4.17 in /usr/local/lib/python3.7/dist-packages (from requests<3,>=2.20.0->mxnet) (2020.12.5)\n",
            "Requirement already satisfied: idna<3,>=2.5 in /usr/local/lib/python3.7/dist-packages (from requests<3,>=2.20.0->mxnet) (2.10)\n",
            "Requirement already satisfied: urllib3!=1.25.0,!=1.25.1,<1.26,>=1.21.1 in /usr/local/lib/python3.7/dist-packages (from requests<3,>=2.20.0->mxnet) (1.24.3)\n",
            "Installing collected packages: graphviz, mxnet\n",
            "  Found existing installation: graphviz 0.10.1\n",
            "    Uninstalling graphviz-0.10.1:\n",
            "      Successfully uninstalled graphviz-0.10.1\n",
            "Successfully installed graphviz-0.8.4 mxnet-1.8.0.post0\n"
          ],
          "name": "stdout"
        }
      ]
    },
    {
      "cell_type": "code",
      "metadata": {
        "id": "4tbIMP53ItoE",
        "colab": {
          "base_uri": "https://localhost:8080/"
        },
        "outputId": "58ab96dd-99c2-4222-9782-b39fd983f9b0"
      },
      "source": [
        "!pip install gluoncv --upgrade"
      ],
      "execution_count": null,
      "outputs": [
        {
          "output_type": "stream",
          "text": [
            "Requirement already up-to-date: gluoncv in /usr/local/lib/python3.7/dist-packages (0.10.1.post0)\n",
            "Requirement already satisfied, skipping upgrade: pandas in /usr/local/lib/python3.7/dist-packages (from gluoncv) (1.1.5)\n",
            "Requirement already satisfied, skipping upgrade: decord in /usr/local/lib/python3.7/dist-packages (from gluoncv) (0.5.2)\n",
            "Requirement already satisfied, skipping upgrade: opencv-python in /usr/local/lib/python3.7/dist-packages (from gluoncv) (4.1.2.30)\n",
            "Requirement already satisfied, skipping upgrade: numpy in /usr/local/lib/python3.7/dist-packages (from gluoncv) (1.19.5)\n",
            "Requirement already satisfied, skipping upgrade: requests in /usr/local/lib/python3.7/dist-packages (from gluoncv) (2.23.0)\n",
            "Requirement already satisfied, skipping upgrade: matplotlib in /usr/local/lib/python3.7/dist-packages (from gluoncv) (3.2.2)\n",
            "Requirement already satisfied, skipping upgrade: portalocker in /usr/local/lib/python3.7/dist-packages (from gluoncv) (2.3.0)\n",
            "Requirement already satisfied, skipping upgrade: scipy in /usr/local/lib/python3.7/dist-packages (from gluoncv) (1.4.1)\n",
            "Requirement already satisfied, skipping upgrade: tqdm in /usr/local/lib/python3.7/dist-packages (from gluoncv) (4.41.1)\n",
            "Requirement already satisfied, skipping upgrade: Pillow in /usr/local/lib/python3.7/dist-packages (from gluoncv) (7.1.2)\n",
            "Requirement already satisfied, skipping upgrade: tensorboardx in /usr/local/lib/python3.7/dist-packages (from gluoncv) (2.2)\n",
            "Requirement already satisfied, skipping upgrade: pyyaml in /usr/local/lib/python3.7/dist-packages (from gluoncv) (3.13)\n",
            "Requirement already satisfied, skipping upgrade: autocfg in /usr/local/lib/python3.7/dist-packages (from gluoncv) (0.0.8)\n",
            "Requirement already satisfied, skipping upgrade: autogluon.core in /usr/local/lib/python3.7/dist-packages (from gluoncv) (0.2.0)\n",
            "Requirement already satisfied, skipping upgrade: yacs in /usr/local/lib/python3.7/dist-packages (from gluoncv) (0.1.8)\n",
            "Requirement already satisfied, skipping upgrade: python-dateutil>=2.7.3 in /usr/local/lib/python3.7/dist-packages (from pandas->gluoncv) (2.8.1)\n",
            "Requirement already satisfied, skipping upgrade: pytz>=2017.2 in /usr/local/lib/python3.7/dist-packages (from pandas->gluoncv) (2018.9)\n",
            "Requirement already satisfied, skipping upgrade: certifi>=2017.4.17 in /usr/local/lib/python3.7/dist-packages (from requests->gluoncv) (2020.12.5)\n",
            "Requirement already satisfied, skipping upgrade: chardet<4,>=3.0.2 in /usr/local/lib/python3.7/dist-packages (from requests->gluoncv) (3.0.4)\n",
            "Requirement already satisfied, skipping upgrade: idna<3,>=2.5 in /usr/local/lib/python3.7/dist-packages (from requests->gluoncv) (2.10)\n",
            "Requirement already satisfied, skipping upgrade: urllib3!=1.25.0,!=1.25.1,<1.26,>=1.21.1 in /usr/local/lib/python3.7/dist-packages (from requests->gluoncv) (1.24.3)\n",
            "Requirement already satisfied, skipping upgrade: kiwisolver>=1.0.1 in /usr/local/lib/python3.7/dist-packages (from matplotlib->gluoncv) (1.3.1)\n",
            "Requirement already satisfied, skipping upgrade: cycler>=0.10 in /usr/local/lib/python3.7/dist-packages (from matplotlib->gluoncv) (0.10.0)\n",
            "Requirement already satisfied, skipping upgrade: pyparsing!=2.0.4,!=2.1.2,!=2.1.6,>=2.0.1 in /usr/local/lib/python3.7/dist-packages (from matplotlib->gluoncv) (2.4.7)\n",
            "Requirement already satisfied, skipping upgrade: protobuf>=3.8.0 in /usr/local/lib/python3.7/dist-packages (from tensorboardx->gluoncv) (3.12.4)\n",
            "Requirement already satisfied, skipping upgrade: ConfigSpace==0.4.18 in /usr/local/lib/python3.7/dist-packages (from autogluon.core->gluoncv) (0.4.18)\n",
            "Requirement already satisfied, skipping upgrade: autograd>=1.3 in /usr/local/lib/python3.7/dist-packages (from autogluon.core->gluoncv) (1.3)\n",
            "Requirement already satisfied, skipping upgrade: graphviz<0.9.0,>=0.8.1 in /usr/local/lib/python3.7/dist-packages (from autogluon.core->gluoncv) (0.8.4)\n",
            "Requirement already satisfied, skipping upgrade: dask>=2.6.0 in /usr/local/lib/python3.7/dist-packages (from autogluon.core->gluoncv) (2.12.0)\n",
            "Requirement already satisfied, skipping upgrade: tornado>=5.0.1 in /usr/local/lib/python3.7/dist-packages (from autogluon.core->gluoncv) (5.1.1)\n",
            "Requirement already satisfied, skipping upgrade: paramiko>=2.4 in /usr/local/lib/python3.7/dist-packages (from autogluon.core->gluoncv) (2.7.2)\n",
            "Requirement already satisfied, skipping upgrade: distributed>=2.6.0 in /usr/local/lib/python3.7/dist-packages (from autogluon.core->gluoncv) (2021.4.1)\n",
            "Requirement already satisfied, skipping upgrade: scikit-learn<0.25,>=0.23.2 in /usr/local/lib/python3.7/dist-packages (from autogluon.core->gluoncv) (0.24.2)\n",
            "Requirement already satisfied, skipping upgrade: boto3 in /usr/local/lib/python3.7/dist-packages (from autogluon.core->gluoncv) (1.17.64)\n",
            "Requirement already satisfied, skipping upgrade: dill==0.3.3 in /usr/local/lib/python3.7/dist-packages (from autogluon.core->gluoncv) (0.3.3)\n",
            "Requirement already satisfied, skipping upgrade: cython in /usr/local/lib/python3.7/dist-packages (from autogluon.core->gluoncv) (0.29.22)\n",
            "Requirement already satisfied, skipping upgrade: six>=1.5 in /usr/local/lib/python3.7/dist-packages (from python-dateutil>=2.7.3->pandas->gluoncv) (1.15.0)\n",
            "Requirement already satisfied, skipping upgrade: setuptools in /usr/local/lib/python3.7/dist-packages (from protobuf>=3.8.0->tensorboardx->gluoncv) (56.0.0)\n",
            "Requirement already satisfied, skipping upgrade: future>=0.15.2 in /usr/local/lib/python3.7/dist-packages (from autograd>=1.3->autogluon.core->gluoncv) (0.16.0)\n",
            "Requirement already satisfied, skipping upgrade: pynacl>=1.0.1 in /usr/local/lib/python3.7/dist-packages (from paramiko>=2.4->autogluon.core->gluoncv) (1.4.0)\n",
            "Requirement already satisfied, skipping upgrade: bcrypt>=3.1.3 in /usr/local/lib/python3.7/dist-packages (from paramiko>=2.4->autogluon.core->gluoncv) (3.2.0)\n",
            "Requirement already satisfied, skipping upgrade: cryptography>=2.5 in /usr/local/lib/python3.7/dist-packages (from paramiko>=2.4->autogluon.core->gluoncv) (3.4.7)\n",
            "Requirement already satisfied, skipping upgrade: zict>=0.1.3 in /usr/local/lib/python3.7/dist-packages (from distributed>=2.6.0->autogluon.core->gluoncv) (2.0.0)\n",
            "Requirement already satisfied, skipping upgrade: sortedcontainers!=2.0.0,!=2.0.1 in /usr/local/lib/python3.7/dist-packages (from distributed>=2.6.0->autogluon.core->gluoncv) (2.3.0)\n",
            "Requirement already satisfied, skipping upgrade: toolz>=0.8.2 in /usr/local/lib/python3.7/dist-packages (from distributed>=2.6.0->autogluon.core->gluoncv) (0.11.1)\n",
            "Requirement already satisfied, skipping upgrade: psutil>=5.0 in /usr/local/lib/python3.7/dist-packages (from distributed>=2.6.0->autogluon.core->gluoncv) (5.4.8)\n",
            "Requirement already satisfied, skipping upgrade: click>=6.6 in /usr/local/lib/python3.7/dist-packages (from distributed>=2.6.0->autogluon.core->gluoncv) (7.1.2)\n",
            "Requirement already satisfied, skipping upgrade: tblib>=1.6.0 in /usr/local/lib/python3.7/dist-packages (from distributed>=2.6.0->autogluon.core->gluoncv) (1.7.0)\n",
            "Requirement already satisfied, skipping upgrade: msgpack>=0.6.0 in /usr/local/lib/python3.7/dist-packages (from distributed>=2.6.0->autogluon.core->gluoncv) (1.0.2)\n",
            "Requirement already satisfied, skipping upgrade: cloudpickle>=1.5.0 in /usr/local/lib/python3.7/dist-packages (from distributed>=2.6.0->autogluon.core->gluoncv) (1.6.0)\n",
            "Requirement already satisfied, skipping upgrade: joblib>=0.11 in /usr/local/lib/python3.7/dist-packages (from scikit-learn<0.25,>=0.23.2->autogluon.core->gluoncv) (1.0.1)\n",
            "Requirement already satisfied, skipping upgrade: threadpoolctl>=2.0.0 in /usr/local/lib/python3.7/dist-packages (from scikit-learn<0.25,>=0.23.2->autogluon.core->gluoncv) (2.1.0)\n",
            "Requirement already satisfied, skipping upgrade: botocore<1.21.0,>=1.20.64 in /usr/local/lib/python3.7/dist-packages (from boto3->autogluon.core->gluoncv) (1.20.64)\n",
            "Requirement already satisfied, skipping upgrade: s3transfer<0.5.0,>=0.4.0 in /usr/local/lib/python3.7/dist-packages (from boto3->autogluon.core->gluoncv) (0.4.2)\n",
            "Requirement already satisfied, skipping upgrade: jmespath<1.0.0,>=0.7.1 in /usr/local/lib/python3.7/dist-packages (from boto3->autogluon.core->gluoncv) (0.10.0)\n",
            "Requirement already satisfied, skipping upgrade: cffi>=1.4.1 in /usr/local/lib/python3.7/dist-packages (from pynacl>=1.0.1->paramiko>=2.4->autogluon.core->gluoncv) (1.14.5)\n",
            "Requirement already satisfied, skipping upgrade: heapdict in /usr/local/lib/python3.7/dist-packages (from zict>=0.1.3->distributed>=2.6.0->autogluon.core->gluoncv) (1.0.1)\n",
            "Requirement already satisfied, skipping upgrade: pycparser in /usr/local/lib/python3.7/dist-packages (from cffi>=1.4.1->pynacl>=1.0.1->paramiko>=2.4->autogluon.core->gluoncv) (2.20)\n"
          ],
          "name": "stdout"
        }
      ]
    },
    {
      "cell_type": "code",
      "metadata": {
        "id": "s7On-vKL-l0M"
      },
      "source": [
        "from matplotlib import pyplot as plt\n",
        "from gluoncv import model_zoo, data, utils\n",
        "import numpy as np\n"
      ],
      "execution_count": null,
      "outputs": []
    },
    {
      "cell_type": "code",
      "metadata": {
        "id": "OqTiGHor-kcM",
        "colab": {
          "base_uri": "https://localhost:8080/"
        },
        "outputId": "b6bb45c8-4d45-4c94-e1bb-7ef2d5532589"
      },
      "source": [
        "rcnn = model_zoo.get_model('faster_rcnn_resnet50_v1b_voc', pretrained=True)\n"
      ],
      "execution_count": null,
      "outputs": [
        {
          "output_type": "stream",
          "text": [
            "Downloading /root/.mxnet/models/faster_rcnn_resnet50_v1b_voc-447328d8.zip from https://apache-mxnet.s3-accelerate.dualstack.amazonaws.com/gluon/models/faster_rcnn_resnet50_v1b_voc-447328d8.zip...\n"
          ],
          "name": "stdout"
        },
        {
          "output_type": "stream",
          "text": [
            "121888KB [00:03, 31830.76KB/s]                            \n"
          ],
          "name": "stderr"
        }
      ]
    },
    {
      "cell_type": "markdown",
      "metadata": {
        "id": "P24Nxe6yntpZ"
      },
      "source": [
        ""
      ]
    },
    {
      "cell_type": "markdown",
      "metadata": {
        "id": "vs0V0ebaPfLk"
      },
      "source": [
        "our trial"
      ]
    },
    {
      "cell_type": "code",
      "metadata": {
        "id": "Thgjg2Y0MppQ"
      },
      "source": [
        "import numpy as np\n",
        "import cv2\n",
        "import numpy as np\n",
        "from google.colab.patches import cv2_imshow\n",
        "from itertools import islice"
      ],
      "execution_count": null,
      "outputs": []
    },
    {
      "cell_type": "code",
      "metadata": {
        "id": "PcZ9VNzGt8v3"
      },
      "source": [
        "import json"
      ],
      "execution_count": null,
      "outputs": []
    },
    {
      "cell_type": "code",
      "metadata": {
        "colab": {
          "base_uri": "https://localhost:8080/"
        },
        "id": "nieAN-Atsr8H",
        "outputId": "8d98bd4c-d8a0-43b3-9094-220fdc64af09"
      },
      "source": [
        "from google.colab import drive\n",
        "drive.mount('/content/gdrive')"
      ],
      "execution_count": null,
      "outputs": [
        {
          "output_type": "stream",
          "text": [
            "Mounted at /content/gdrive\n"
          ],
          "name": "stdout"
        }
      ]
    },
    {
      "cell_type": "code",
      "metadata": {
        "id": "Ym9bw316uOIR"
      },
      "source": [
        "import tensorflow as tf\n",
        "from tensorflow.keras.layers import Layer\n",
        "\n",
        "class ROIPoolingLayer(Layer):\n",
        "    \"\"\" Implements Region Of Interest Max Pooling \n",
        "        for channel-first images and relative bounding box coordinates\n",
        "        \n",
        "        # Constructor parameters\n",
        "            pooled_height, pooled_width (int) -- \n",
        "              specify height and width of layer outputs\n",
        "        \n",
        "        Shape of inputs\n",
        "            [(batch_size, pooled_height, pooled_width, n_channels),\n",
        "             (batch_size, num_rois, 4)]\n",
        "           \n",
        "        Shape of output\n",
        "            (batch_size, num_rois, pooled_height, pooled_width, n_channels)\n",
        "    \n",
        "    \"\"\"\n",
        "    def __init__(self, pooled_height, pooled_width, **kwargs):\n",
        "        self.pooled_height = pooled_height\n",
        "        self.pooled_width = pooled_width\n",
        "        \n",
        "        super(ROIPoolingLayer, self).__init__(**kwargs)\n",
        "        \n",
        "    def compute_output_shape(self, input_shape):\n",
        "        \"\"\" Returns the shape of the ROI Layer output\n",
        "        \"\"\"\n",
        "        feature_map_shape, rois_shape = input_shape\n",
        "        assert feature_map_shape[0] == rois_shape[0]\n",
        "        batch_size = feature_map_shape[0]\n",
        "        n_rois = rois_shape[1]\n",
        "        n_channels = feature_map_shape[3]\n",
        "        return (batch_size, n_rois, self.pooled_height, \n",
        "                self.pooled_width, n_channels)\n",
        "\n",
        "    def call(self, x):\n",
        "        \"\"\" Maps the input tensor of the ROI layer to its output\n",
        "        \n",
        "            # Parameters\n",
        "                x[0] -- Convolutional feature map tensor,\n",
        "                        shape (batch_size, pooled_height, pooled_width, n_channels)\n",
        "                x[1] -- Tensor of region of interests from candidate bounding boxes,\n",
        "                        shape (batch_size, num_rois, 4)\n",
        "                        Each region of interest is defined by four relative \n",
        "                        coordinates (x_min, y_min, x_max, y_max) between 0 and 1\n",
        "            # Output\n",
        "                pooled_areas -- Tensor with the pooled region of interest, shape\n",
        "                    (batch_size, num_rois, pooled_height, pooled_width, n_channels)\n",
        "        \"\"\"\n",
        "        def curried_pool_rois(x): \n",
        "          return ROIPoolingLayer._pool_rois(x[0], x[1], \n",
        "                                            self.pooled_height, \n",
        "                                            self.pooled_width)\n",
        "        \n",
        "        pooled_areas = tf.map_fn(curried_pool_rois, x, dtype=tf.float32)\n",
        "\n",
        "        return pooled_areas\n",
        "    \n",
        "    @staticmethod\n",
        "    def _pool_rois(feature_map, rois, pooled_height, pooled_width):\n",
        "        \"\"\" Applies ROI pooling for a single image and varios ROIs\n",
        "        \"\"\"\n",
        "        def curried_pool_roi(roi): \n",
        "          return ROIPoolingLayer._pool_roi(feature_map, roi, \n",
        "                                           pooled_height, pooled_width)\n",
        "        \n",
        "        pooled_areas = tf.map_fn(curried_pool_roi, rois, dtype=tf.float32)\n",
        "        return pooled_areas\n",
        "    \n",
        "    @staticmethod\n",
        "    def _pool_roi(feature_map, roi, pooled_height, pooled_width):\n",
        "        \"\"\" Applies ROI pooling to a single image and a single region of interest\n",
        "        \"\"\"\n",
        "\n",
        "        # Compute the region of interest        \n",
        "        feature_map_height = int(feature_map.shape[0])\n",
        "        feature_map_width  = int(feature_map.shape[1])\n",
        "        \n",
        "        h_start = tf.cast(feature_map_height * roi[0], 'int32')\n",
        "        w_start = tf.cast(feature_map_width  * roi[1], 'int32')\n",
        "        h_end   = tf.cast(feature_map_height * roi[2], 'int32')\n",
        "        w_end   = tf.cast(feature_map_width  * roi[3], 'int32')\n",
        "        \n",
        "        region = feature_map[h_start:h_end, w_start:w_end, :]\n",
        "        \n",
        "        # Divide the region into non overlapping areas\n",
        "        region_height = h_end - h_start\n",
        "        region_width  = w_end - w_start\n",
        "        h_step = tf.cast( region_height / pooled_height, 'int32')\n",
        "        w_step = tf.cast( region_width  / pooled_width , 'int32')\n",
        "        \n",
        "        areas = [[(\n",
        "                    i*h_step, \n",
        "                    j*w_step, \n",
        "                    (i+1)*h_step if i+1 < pooled_height else region_height, \n",
        "                    (j+1)*w_step if j+1 < pooled_width else region_width\n",
        "                   ) \n",
        "                   for j in range(pooled_width)] \n",
        "                  for i in range(pooled_height)]\n",
        "        \n",
        "        # take the maximum of each area and stack the result\n",
        "        def pool_area(x): \n",
        "          return tf.math.reduce_max(region[x[0]:x[2], x[1]:x[3], :], axis=[0,1])\n",
        "        \n",
        "        pooled_features = tf.stack([[pool_area(x) for x in row] for row in areas])\n",
        "        return pooled_features"
      ],
      "execution_count": null,
      "outputs": []
    },
    {
      "cell_type": "code",
      "metadata": {
        "id": "XeJTpVFntHbK"
      },
      "source": [
        "import pickle\n",
        "\n",
        "\n",
        "with open('/content/gdrive/MyDrive/btp_data/im_name_feature_rcnn.pkl', 'rb') as f:\n",
        "    im_name_feature_rcnn= pickle.load(f)"
      ],
      "execution_count": null,
      "outputs": []
    },
    {
      "cell_type": "code",
      "metadata": {
        "id": "2_VVDw7Xtfzg"
      },
      "source": [
        "im_cap = '/content/gdrive/MyDrive/btp_data/im_capno_400.json'\n",
        "with open(im_cap) as train_file1:\n",
        "    im_cap_no= json.load(train_file1)"
      ],
      "execution_count": null,
      "outputs": []
    },
    {
      "cell_type": "code",
      "metadata": {
        "colab": {
          "base_uri": "https://localhost:8080/"
        },
        "id": "dI33jSIoGbX3",
        "outputId": "e017c410-922b-455d-d7e7-bcdd767f240b"
      },
      "source": [
        "print(len(im_cap_no))"
      ],
      "execution_count": null,
      "outputs": [
        {
          "output_type": "stream",
          "text": [
            "1609\n"
          ],
          "name": "stdout"
        }
      ]
    },
    {
      "cell_type": "code",
      "metadata": {
        "id": "7EojMiiTwLcE"
      },
      "source": [
        "batch_size = 400\n",
        "img_height = 28\n",
        "img_width = 28\n",
        "n_channels = 512\n",
        "n_rois = 3\n",
        "pooled_height = 7\n",
        "pooled_width = 7"
      ],
      "execution_count": null,
      "outputs": []
    },
    {
      "cell_type": "code",
      "metadata": {
        "id": "P-XxXv8xxQBr"
      },
      "source": [
        "args = []\n",
        "for k,v in im_name_feature_rcnn.items():\n",
        "  args.append(v)\n",
        "batch_im_feature = np.concatenate(args)  #1609*28*28*512"
      ],
      "execution_count": null,
      "outputs": []
    },
    {
      "cell_type": "markdown",
      "metadata": {
        "id": "u2y_bkoY72q3"
      },
      "source": [
        "fail trial\n"
      ]
    },
    {
      "cell_type": "code",
      "metadata": {
        "colab": {
          "base_uri": "https://localhost:8080/",
          "height": 102
        },
        "id": "EGztuWVq72FF",
        "outputId": "c882f95a-e59e-4d72-aae0-34715d17daaa"
      },
      "source": [
        "'''arg_roi=[]\n",
        "for i,(k,v) in enumerate(im_cap_no.items()):\n",
        "  print(i)\n",
        "  im_fname='/content/gdrive/MyDrive/Use Image/'+str(k)+'_'+str(v) +'.jpg'\n",
        "  x, orig_img = data.transforms.presets.rcnn.load_test(im_fname, short=224)\n",
        "  class_IDs, scores, bounding_boxs = rcnn(x)\n",
        "  forbidden=[]\n",
        "  arg_roi_in=[]\n",
        "  for cnt in range(10):\n",
        "    ma=-1\n",
        "    mai=0\n",
        "    for num,itr in enumerate(scores[0]):\n",
        "      if num not in forbidden:\n",
        "        if itr>ma:\n",
        "          ma=itr\n",
        "          mai=num\n",
        "    forbidden.append(mai)\n",
        "    arg_roi_in.append(bounding_boxs[0][mai])\n",
        "  xt=np.concatenate(arg_roi_in)\n",
        "  arg_roi.append(xt)\n",
        "batch_roi=np.concatenate(arg_roi)\n",
        "'''\n"
      ],
      "execution_count": null,
      "outputs": [
        {
          "output_type": "execute_result",
          "data": {
            "application/vnd.google.colaboratory.intrinsic+json": {
              "type": "string"
            },
            "text/plain": [
              "\"arg_roi=[]\\nfor i,(k,v) in enumerate(im_cap_no.items()):\\n  print(i)\\n  im_fname='/content/gdrive/MyDrive/Use Image/'+str(k)+'_'+str(v) +'.jpg'\\n  x, orig_img = data.transforms.presets.rcnn.load_test(im_fname, short=224)\\n  class_IDs, scores, bounding_boxs = rcnn(x)\\n  forbidden=[]\\n  arg_roi_in=[]\\n  for cnt in range(10):\\n    ma=-1\\n    mai=0\\n    for num,itr in enumerate(scores[0]):\\n      if num not in forbidden:\\n        if itr>ma:\\n          ma=itr\\n          mai=num\\n    forbidden.append(mai)\\n    arg_roi_in.append(bounding_boxs[0][mai])\\n  xt=np.concatenate(arg_roi_in)\\n  arg_roi.append(xt)\\nbatch_roi=np.concatenate(arg_roi)\\n\""
            ]
          },
          "metadata": {
            "tags": []
          },
          "execution_count": 16
        }
      ]
    },
    {
      "cell_type": "code",
      "metadata": {
        "id": "b9VGmnFzuRCu"
      },
      "source": [
        "arg_roi=[]  #10*4 \n",
        "for i,(k,v) in enumerate(im_cap_no.items()):\n",
        "  print(i)\n",
        "  im_fname='/content/gdrive/MyDrive/Use Image/'+str(k)+'_'+str(v) +'.jpg'\n",
        "  x, orig_img = data.transforms.presets.rcnn.load_test(im_fname, short=224)\n",
        "  class_IDs, scores, bounding_boxs = rcnn(x)\n",
        "  forbidden=[]\n",
        "  arg_roi_in=[]  #1 dimens (4)\n",
        "  #print(\"size of for: \"+str(len(forbidden)))\n",
        "  for cnt in range(n_rois):\n",
        "    ma=-1\n",
        "    mai=0\n",
        "    for num,itr in enumerate(scores[0]):\n",
        "      #print(num)\n",
        "      #print(itr[0])\n",
        "      if num not in forbidden:\n",
        "        if itr[0]>ma:\n",
        "          ma=itr[0]\n",
        "          mai=num\n",
        "    forbidden.append(mai)\n",
        "    ty=bounding_boxs[0][mai].reshape(1,4).asnumpy()\n",
        "    arg_roi_in.append(ty)\n",
        "    #print(ty.shape)\n",
        "    #print(ty)\n",
        "    #print(type(ty))\n",
        "    #print(ty.shape)\n",
        "  #print(arg_roi_in)\n",
        "  xt=np.concatenate(arg_roi_in,axis=0)\n",
        "  #print(xt.shape)\n",
        "  #print(xt)\n",
        "  xt=np.reshape(xt,(1,n_rois,4))\n",
        "  arg_roi.append(xt)\n",
        "  #print(xt.shape)\n",
        "  #print(xt)\n",
        "batch_roi=np.concatenate(arg_roi)\n",
        "\n"
      ],
      "execution_count": null,
      "outputs": []
    },
    {
      "cell_type": "code",
      "metadata": {
        "id": "PL2R5n3J77jA"
      },
      "source": [
        "print(batch_roi.shape)"
      ],
      "execution_count": null,
      "outputs": []
    },
    {
      "cell_type": "code",
      "metadata": {
        "id": "HBejLqAS62NJ"
      },
      "source": [
        "argu=[]\n",
        "for i in range(len(im_cap_no)):\n",
        "  argu.append(np.reshape(batch_im_feature[i],(1,28,28,512)))\n",
        "batch_im_feature=np.concatenate(argu)\n",
        "print(batch_im_feature.shape)"
      ],
      "execution_count": null,
      "outputs": []
    },
    {
      "cell_type": "code",
      "metadata": {
        "id": "4smc48uX7yOy"
      },
      "source": [
        "feature_maps_shape = (batch_size, img_height, img_width, n_channels)\n",
        "feature_maps_tf = tf.placeholder(tf.float32, shape=feature_maps_shape)\n",
        "roiss_tf = tf.placeholder(tf.float32, shape=(batch_size, n_rois, 4))"
      ],
      "execution_count": null,
      "outputs": []
    },
    {
      "cell_type": "code",
      "metadata": {
        "id": "5LgDLXA07YXn"
      },
      "source": [
        "roi_layer = ROIPoolingLayer(pooled_height, pooled_width)\n",
        "pooled_features = roi_layer([feature_maps_tf, roiss_tf])\n",
        "print(f\"output shape of layer call = {pooled_features.shape}\")\n",
        "# Run tensorflow session\n",
        "with tf.Session() as session:\n",
        "    result = session.run(pooled_features, \n",
        "                         feed_dict={feature_maps_tf:batch_im_feature,  \n",
        "                                    roiss_tf:batch_roi})\n",
        "    \n",
        "print(f\"result.shape = {result.shape}\")"
      ],
      "execution_count": null,
      "outputs": []
    },
    {
      "cell_type": "code",
      "metadata": {
        "id": "qj4c_ujYCMmN"
      },
      "source": [
        "dic_roi={}\n",
        "for i,(k,v) in enumerate(im_cap_no.items()):\n",
        "  dic_roi[k]=np.reshape(result[i],(1,75264))\n"
      ],
      "execution_count": null,
      "outputs": []
    },
    {
      "cell_type": "code",
      "metadata": {
        "id": "zGFaE4GY_Nxd"
      },
      "source": [
        "import pickle\n",
        "allFiles = \"/content/gdrive/MyDrive/btp_data/roi_dic_400.pkl\"\n",
        "open_file = open(allFiles, \"wb\")\n",
        "pickle.dump(dic_roi, open_file)\n",
        "open_file.close()"
      ],
      "execution_count": null,
      "outputs": []
    },
    {
      "cell_type": "code",
      "metadata": {
        "id": "kTSDOe8-RjSc"
      },
      "source": [
        "#ax = utils.viz.plot_bbox(orig_img, bounding_boxs[0], scores[0], class_IDs[0], class_names=rcnn.classes)\n",
        "#plt.show()"
      ],
      "execution_count": null,
      "outputs": []
    }
  ]
}